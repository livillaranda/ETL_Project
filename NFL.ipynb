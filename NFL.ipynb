{
 "cells": [
  {
   "cell_type": "code",
   "execution_count": 1,
   "metadata": {},
   "outputs": [],
   "source": [
    "# Dependencies\n",
    "import pandas as pd"
   ]
  },
  {
   "cell_type": "code",
   "execution_count": 2,
   "metadata": {},
   "outputs": [],
   "source": [
    "# Import AFC file\n",
    "afcpath = 'NFL_AFC.xls'\n",
    "\n",
    "afc = pd.read_excel(afcpath)"
   ]
  },
  {
   "cell_type": "code",
   "execution_count": 3,
   "metadata": {},
   "outputs": [],
   "source": [
    "# Create DataFrame\n",
    "afc_df = pd.DataFrame(afc)"
   ]
  },
  {
   "cell_type": "code",
   "execution_count": 4,
   "metadata": {},
   "outputs": [],
   "source": [
    "# Drop Unneeded Columns\n",
    "afc_rec = afc_df[['Tm', 'W', 'L', 'W-L%']].copy()"
   ]
  },
  {
   "cell_type": "code",
   "execution_count": 5,
   "metadata": {},
   "outputs": [],
   "source": [
    "# Insert City Location\n",
    "afc_cities = [4, 25, 21, 5, 9, 3, 30, 10, 15, 14, 24, 16, 36, 11, 26, 17]\n",
    "\n",
    "afc_rec['city_id'] = afc_cities"
   ]
  },
  {
   "cell_type": "code",
   "execution_count": 6,
   "metadata": {},
   "outputs": [],
   "source": [
    "# Verify Clean Data for AFC Record\n",
    "# afc_rec"
   ]
  },
  {
   "cell_type": "code",
   "execution_count": 7,
   "metadata": {},
   "outputs": [],
   "source": [
    "# Import NFC file\n",
    "nfcpath = 'NFL_NFC.xls'\n",
    "\n",
    "nfc = pd.read_excel(nfcpath)"
   ]
  },
  {
   "cell_type": "code",
   "execution_count": 8,
   "metadata": {},
   "outputs": [],
   "source": [
    "# Create DataFrame\n",
    "nfc_df = pd.DataFrame(nfc)"
   ]
  },
  {
   "cell_type": "code",
   "execution_count": 9,
   "metadata": {},
   "outputs": [],
   "source": [
    "# Drop Unneeded Columns\n",
    "nfc_rec = nfc_df[['Tm', 'W', 'L', 'W-L%']].copy()"
   ]
  },
  {
   "cell_type": "code",
   "execution_count": 10,
   "metadata": {},
   "outputs": [],
   "source": [
    "# Insert City Location\n",
    "nfc_cities = [40, 29, 25, 42, 23, 13, 7, 12, 43, 2, 6, 39, 1, 26, 37, 38]\n",
    "\n",
    "nfc_rec['city_id'] = nfc_cities"
   ]
  },
  {
   "cell_type": "code",
   "execution_count": 11,
   "metadata": {},
   "outputs": [],
   "source": [
    "# Verify Clean Data for NFC Record\n",
    "# nfc_rec"
   ]
  },
  {
   "cell_type": "code",
   "execution_count": 12,
   "metadata": {},
   "outputs": [],
   "source": [
    "# Merge Conferences\n",
    "nfl_rec = pd.concat([afc_rec, nfc_rec])"
   ]
  },
  {
   "cell_type": "code",
   "execution_count": 13,
   "metadata": {},
   "outputs": [],
   "source": [
    "# View DataFrame\n",
    "# nfl_rec"
   ]
  },
  {
   "cell_type": "code",
   "execution_count": 14,
   "metadata": {},
   "outputs": [],
   "source": [
    "# Add 'Tie' Column\n",
    "nfl_rec['tie'] = 0"
   ]
  },
  {
   "cell_type": "code",
   "execution_count": 15,
   "metadata": {},
   "outputs": [],
   "source": [
    "# Rename and Reorder Columns\n",
    "nfl_rec = nfl_rec.rename(columns={'Tm':'team_name', 'W':'win', 'L':'loss', 'W-L%':'win_percent'})\n",
    "\n",
    "nfl_rec = nfl_rec[['team_name', 'win', 'loss', 'tie', 'win_percent', 'city_id']]"
   ]
  },
  {
   "cell_type": "code",
   "execution_count": 16,
   "metadata": {},
   "outputs": [],
   "source": [
    "# Index Reset\n",
    "nfl_rec = nfl_rec.reset_index(drop=True)"
   ]
  },
  {
   "cell_type": "code",
   "execution_count": 17,
   "metadata": {},
   "outputs": [],
   "source": [
    "# Send to CSV\n",
    "nfl_rec.to_csv('NFL.csv')"
   ]
  },
  {
   "cell_type": "code",
   "execution_count": null,
   "metadata": {},
   "outputs": [],
   "source": []
  }
 ],
 "metadata": {
  "kernelspec": {
   "display_name": "Python 3",
   "language": "python",
   "name": "python3"
  },
  "language_info": {
   "codemirror_mode": {
    "name": "ipython",
    "version": 3
   },
   "file_extension": ".py",
   "mimetype": "text/x-python",
   "name": "python",
   "nbconvert_exporter": "python",
   "pygments_lexer": "ipython3",
   "version": "3.7.6"
  }
 },
 "nbformat": 4,
 "nbformat_minor": 4
}
