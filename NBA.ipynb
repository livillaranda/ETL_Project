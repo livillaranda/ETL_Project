{
 "cells": [
  {
   "cell_type": "code",
   "execution_count": 1,
   "metadata": {},
   "outputs": [],
   "source": [
    "# Dependencies\n",
    "import pandas as pd"
   ]
  },
  {
   "cell_type": "code",
   "execution_count": 2,
   "metadata": {},
   "outputs": [],
   "source": [
    "# Save Site as Variable\n",
    "url = 'https://www.basketball-reference.com/leagues/NBA_2010_standings.html'"
   ]
  },
  {
   "cell_type": "code",
   "execution_count": 3,
   "metadata": {},
   "outputs": [
    {
     "data": {
      "text/plain": [
       "[      Eastern Conference                   W                   L  \\\n",
       " 0      Atlantic Division   Atlantic Division   Atlantic Division   \n",
       " 1        Boston Celtics*                  50                  32   \n",
       " 2        Toronto Raptors                  40                  42   \n",
       " 3        New York Knicks                  29                  53   \n",
       " 4     Philadelphia 76ers                  27                  55   \n",
       " 5        New Jersey Nets                  12                  70   \n",
       " 6       Central Division    Central Division    Central Division   \n",
       " 7   Cleveland Cavaliers*                  61                  21   \n",
       " 8       Milwaukee Bucks*                  46                  36   \n",
       " 9         Chicago Bulls*                  41                  41   \n",
       " 10        Indiana Pacers                  32                  50   \n",
       " 11       Detroit Pistons                  27                  55   \n",
       " 12    Southeast Division  Southeast Division  Southeast Division   \n",
       " 13        Orlando Magic*                  59                  23   \n",
       " 14        Atlanta Hawks*                  53                  29   \n",
       " 15           Miami Heat*                  47                  35   \n",
       " 16    Charlotte Bobcats*                  44                  38   \n",
       " 17    Washington Wizards                  26                  56   \n",
       " \n",
       "                   W/L%                  GB                PS/G  \\\n",
       " 0    Atlantic Division   Atlantic Division   Atlantic Division   \n",
       " 1                 .610                   —                99.2   \n",
       " 2                 .488                10.0               104.1   \n",
       " 3                 .354                21.0               102.1   \n",
       " 4                 .329                23.0                97.7   \n",
       " 5                 .146                38.0                92.4   \n",
       " 6     Central Division    Central Division    Central Division   \n",
       " 7                 .744                   —               102.1   \n",
       " 8                 .561                15.0                97.7   \n",
       " 9                 .500                20.0                97.5   \n",
       " 10                .390                29.0               100.8   \n",
       " 11                .329                34.0                94.0   \n",
       " 12  Southeast Division  Southeast Division  Southeast Division   \n",
       " 13                .720                   —               102.8   \n",
       " 14                .646                 6.0               101.7   \n",
       " 15                .573                12.0                96.5   \n",
       " 16                .537                15.0                95.3   \n",
       " 17                .317                33.0                96.2   \n",
       " \n",
       "                   PA/G                 SRS  \n",
       " 0    Atlantic Division   Atlantic Division  \n",
       " 1                 95.6                3.37  \n",
       " 2                105.9               -1.83  \n",
       " 3                105.9               -4.01  \n",
       " 4                101.6               -3.93  \n",
       " 5                101.5               -8.93  \n",
       " 6     Central Division    Central Division  \n",
       " 7                 95.6                6.17  \n",
       " 8                 96.0                1.37  \n",
       " 9                 99.1               -1.64  \n",
       " 10               103.8               -3.11  \n",
       " 11                99.1               -5.02  \n",
       " 12  Southeast Division  Southeast Division  \n",
       " 13                95.3                7.12  \n",
       " 14                97.0                4.44  \n",
       " 15                94.2                1.99  \n",
       " 16                93.8                1.30  \n",
       " 17               101.0               -4.72  ,\n",
       "          Western Conference                   W                   L  \\\n",
       " 0        Northwest Division  Northwest Division  Northwest Division   \n",
       " 1           Denver Nuggets*                  53                  29   \n",
       " 2                Utah Jazz*                  53                  29   \n",
       " 3   Portland Trail Blazers*                  50                  32   \n",
       " 4    Oklahoma City Thunder*                  50                  32   \n",
       " 5    Minnesota Timberwolves                  15                  67   \n",
       " 6          Pacific Division    Pacific Division    Pacific Division   \n",
       " 7       Los Angeles Lakers*                  57                  25   \n",
       " 8             Phoenix Suns*                  54                  28   \n",
       " 9      Los Angeles Clippers                  29                  53   \n",
       " 10    Golden State Warriors                  26                  56   \n",
       " 11         Sacramento Kings                  25                  57   \n",
       " 12       Southwest Division  Southwest Division  Southwest Division   \n",
       " 13        Dallas Mavericks*                  55                  27   \n",
       " 14       San Antonio Spurs*                  50                  32   \n",
       " 15          Houston Rockets                  42                  40   \n",
       " 16        Memphis Grizzlies                  40                  42   \n",
       " 17      New Orleans Hornets                  37                  45   \n",
       " \n",
       "                   W/L%                  GB                PS/G  \\\n",
       " 0   Northwest Division  Northwest Division  Northwest Division   \n",
       " 1                 .646                   —               106.5   \n",
       " 2                 .646                   —               104.2   \n",
       " 3                 .610                 3.0                98.1   \n",
       " 4                 .610                 3.0               101.5   \n",
       " 5                 .183                38.0                98.2   \n",
       " 6     Pacific Division    Pacific Division    Pacific Division   \n",
       " 7                 .695                   —               101.7   \n",
       " 8                 .659                 3.0               110.2   \n",
       " 9                 .354                28.0                95.7   \n",
       " 10                .317                31.0               108.8   \n",
       " 11                .305                32.0               100.0   \n",
       " 12  Southwest Division  Southwest Division  Southwest Division   \n",
       " 13                .671                   —               102.0   \n",
       " 14                .610                 5.0               101.4   \n",
       " 15                .512                13.0               102.4   \n",
       " 16                .488                15.0               102.5   \n",
       " 17                .451                18.0               100.2   \n",
       " \n",
       "                   PA/G                 SRS  \n",
       " 0   Northwest Division  Northwest Division  \n",
       " 1                102.4                4.15  \n",
       " 2                 98.9                5.33  \n",
       " 3                 94.8                3.18  \n",
       " 4                 98.0                3.55  \n",
       " 5                107.8               -9.06  \n",
       " 6     Pacific Division    Pacific Division  \n",
       " 7                 97.0                4.78  \n",
       " 8                105.3                4.67  \n",
       " 9                102.1               -6.01  \n",
       " 10               112.4               -3.28  \n",
       " 11               104.4               -4.06  \n",
       " 12  Southwest Division  Southwest Division  \n",
       " 13                99.3                2.66  \n",
       " 14                96.3                5.07  \n",
       " 15               102.7               -0.02  \n",
       " 16               104.0               -1.39  \n",
       " 17               102.7               -2.27  ]"
      ]
     },
     "execution_count": 3,
     "metadata": {},
     "output_type": "execute_result"
    }
   ],
   "source": [
    "# Display Available Tables\n",
    "tables = pd.read_html(url)\n",
    "tables"
   ]
  },
  {
   "cell_type": "code",
   "execution_count": 4,
   "metadata": {},
   "outputs": [],
   "source": [
    "eastern = tables[0]"
   ]
  },
  {
   "cell_type": "code",
   "execution_count": 5,
   "metadata": {},
   "outputs": [],
   "source": [
    "east = eastern.drop([0, 6, 12]).copy()"
   ]
  },
  {
   "cell_type": "code",
   "execution_count": 6,
   "metadata": {},
   "outputs": [],
   "source": [
    "east = east.rename(columns={'Eastern Conference':'team_name'})"
   ]
  },
  {
   "cell_type": "code",
   "execution_count": 7,
   "metadata": {},
   "outputs": [],
   "source": [
    "western = tables[1]"
   ]
  },
  {
   "cell_type": "code",
   "execution_count": 8,
   "metadata": {},
   "outputs": [],
   "source": [
    "west = western.drop([0, 6, 12]).copy()"
   ]
  },
  {
   "cell_type": "code",
   "execution_count": 9,
   "metadata": {},
   "outputs": [],
   "source": [
    "west = west.rename(columns={'Western Conference':'team_name'})"
   ]
  },
  {
   "cell_type": "code",
   "execution_count": 10,
   "metadata": {},
   "outputs": [],
   "source": [
    "# Create DataFrames\n",
    "nba_e = pd.DataFrame(east)\n",
    "nba_w = pd.DataFrame(west)"
   ]
  },
  {
   "cell_type": "code",
   "execution_count": 11,
   "metadata": {},
   "outputs": [],
   "source": [
    "# Merge DataFrames\n",
    "nba = nba_e.append(nba_w)"
   ]
  },
  {
   "cell_type": "code",
   "execution_count": 12,
   "metadata": {},
   "outputs": [],
   "source": [
    "# Drop Unneeded Columns\n",
    "nba_rec = nba[['team_name', 'W', 'L', 'W/L%']].copy()"
   ]
  },
  {
   "cell_type": "code",
   "execution_count": 13,
   "metadata": {},
   "outputs": [],
   "source": [
    "# Rename Columns to Match SQL\n",
    "nba = nba.rename(columns={'W':'win', 'L':'loss', 'W/L%':'win_percent'})"
   ]
  },
  {
   "cell_type": "code",
   "execution_count": 14,
   "metadata": {},
   "outputs": [],
   "source": [
    "# Add Columns to Match All Datasets\n",
    "nba['tie'] = 0\n",
    "nba['city_id'] = [4, 41, 25, 29, 25, 10, 22, 7, 15, 12, 28, 2, 21, 6, 42, 11, 34, 31, 27, 23, 19,\n",
    "                  1, 19, 26, 33, 40, 35, 14, 20, 43]\n",
    "\n",
    "# Reorder Columns\n",
    "nba = nba[['team_name', 'win', 'loss', 'tie', 'win_percent', 'city_id']]"
   ]
  },
  {
   "cell_type": "code",
   "execution_count": 15,
   "metadata": {},
   "outputs": [],
   "source": [
    "# Index Reset\n",
    "nba = nba.reset_index(drop=True)"
   ]
  },
  {
   "cell_type": "code",
   "execution_count": 16,
   "metadata": {},
   "outputs": [],
   "source": [
    "# Save to CSV\n",
    "nba.to_csv('NBA.csv')"
   ]
  }
 ],
 "metadata": {
  "kernelspec": {
   "display_name": "Python 3",
   "language": "python",
   "name": "python3"
  },
  "language_info": {
   "codemirror_mode": {
    "name": "ipython",
    "version": 3
   },
   "file_extension": ".py",
   "mimetype": "text/x-python",
   "name": "python",
   "nbconvert_exporter": "python",
   "pygments_lexer": "ipython3",
   "version": "3.7.6"
  }
 },
 "nbformat": 4,
 "nbformat_minor": 4
}
