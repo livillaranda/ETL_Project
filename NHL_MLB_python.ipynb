{
 "cells": [
  {
   "cell_type": "code",
   "execution_count": 1,
   "metadata": {},
   "outputs": [],
   "source": [
    "import pandas as pd"
   ]
  },
  {
   "cell_type": "code",
   "execution_count": 2,
   "metadata": {},
   "outputs": [],
   "source": [
    "#2010 Census Data by City.csv\n",
    "#MLB Win-Losses by Team (2010).csv\n",
    "#NHL Win-Losses-Ties by Team (2009-2010).csv"
   ]
  },
  {
   "cell_type": "code",
   "execution_count": 3,
   "metadata": {},
   "outputs": [],
   "source": [
    "census_df = pd.read_csv('2010 Census Data by City.csv')"
   ]
  },
  {
   "cell_type": "code",
   "execution_count": 4,
   "metadata": {},
   "outputs": [],
   "source": [
    "mlb_df = pd.read_csv('MLB Win-Losses by Team (2010).csv')"
   ]
  },
  {
   "cell_type": "code",
   "execution_count": 5,
   "metadata": {},
   "outputs": [],
   "source": [
    "nhl_df = pd.read_csv('NHL Win-Losses-Ties by Team (2009-2010).csv')"
   ]
  },
  {
   "cell_type": "code",
   "execution_count": null,
   "metadata": {},
   "outputs": [],
   "source": []
  },
  {
   "cell_type": "code",
   "execution_count": 6,
   "metadata": {},
   "outputs": [],
   "source": [
    "city_id_dict = dict()\n",
    "\n",
    "for index,row in census_df.iterrows():\n",
    "    city_name = row['City Name']\n",
    "    the_id = row['ID']\n",
    "    \n",
    "    city_id_dict[city_name] = the_id"
   ]
  },
  {
   "cell_type": "code",
   "execution_count": 7,
   "metadata": {},
   "outputs": [],
   "source": [
    "mlb_df['city_id'] = 0"
   ]
  },
  {
   "cell_type": "code",
   "execution_count": 9,
   "metadata": {},
   "outputs": [],
   "source": [
    "for index,row in mlb_df.iterrows(): \n",
    "    city = row['CITY']\n",
    "    \n",
    "    if city in city_id_dict: \n",
    "        the_city_id = int(city_id_dict[city])\n",
    "    else: \n",
    "        the_city_id = 41\n",
    "    \n",
    "    mlb_df.loc[mlb_df['CITY']==city,'city_id'] = the_city_id"
   ]
  },
  {
   "cell_type": "code",
   "execution_count": null,
   "metadata": {},
   "outputs": [],
   "source": []
  },
  {
   "cell_type": "code",
   "execution_count": 11,
   "metadata": {},
   "outputs": [],
   "source": [
    "nhl_df['city_id'] = 0"
   ]
  },
  {
   "cell_type": "code",
   "execution_count": 12,
   "metadata": {},
   "outputs": [],
   "source": [
    "for index,row in nhl_df.iterrows(): \n",
    "    city = row['CITY']\n",
    "    if city in city_id_dict: \n",
    "        the_city_id = int(city_id_dict[city])\n",
    "    else: \n",
    "        the_city_id = 41\n",
    "    \n",
    "    nhl_df.loc[nhl_df['CITY']==city,'city_id'] = the_city_id"
   ]
  },
  {
   "cell_type": "code",
   "execution_count": 14,
   "metadata": {},
   "outputs": [],
   "source": [
    "nhl_df = nhl_df.drop('CITY',1)"
   ]
  },
  {
   "cell_type": "code",
   "execution_count": 15,
   "metadata": {},
   "outputs": [],
   "source": [
    "mlb_df = mlb_df.drop('CITY',1)"
   ]
  },
  {
   "cell_type": "code",
   "execution_count": 16,
   "metadata": {},
   "outputs": [],
   "source": [
    "mlb_df.to_csv('mlb_new.csv')"
   ]
  },
  {
   "cell_type": "code",
   "execution_count": 17,
   "metadata": {},
   "outputs": [],
   "source": [
    "nhl_df.to_csv('nhl_new.csv')"
   ]
  },
  {
   "cell_type": "code",
   "execution_count": null,
   "metadata": {},
   "outputs": [],
   "source": []
  }
 ],
 "metadata": {
  "kernelspec": {
   "display_name": "Python 3",
   "language": "python",
   "name": "python3"
  },
  "language_info": {
   "codemirror_mode": {
    "name": "ipython",
    "version": 3
   },
   "file_extension": ".py",
   "mimetype": "text/x-python",
   "name": "python",
   "nbconvert_exporter": "python",
   "pygments_lexer": "ipython3",
   "version": "3.8.3"
  }
 },
 "nbformat": 4,
 "nbformat_minor": 4
}
